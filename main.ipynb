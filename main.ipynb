{
 "cells": [
  {
   "cell_type": "code",
   "execution_count": 126,
   "id": "ea69d5f1",
   "metadata": {
    "execution": {
     "iopub.execute_input": "2023-12-06T14:12:00.663244Z",
     "iopub.status.busy": "2023-12-06T14:12:00.662399Z",
     "iopub.status.idle": "2023-12-06T14:12:02.943087Z",
     "shell.execute_reply": "2023-12-06T14:12:02.942156Z"
    },
    "papermill": {
     "duration": 2.300131,
     "end_time": "2023-12-06T14:12:02.945658",
     "exception": false,
     "start_time": "2023-12-06T14:12:00.645527",
     "status": "completed"
    },
    "tags": []
   },
   "outputs": [],
   "source": [
    "import numpy as np \n",
    "import pandas as pd\n",
    "\n",
    "from sklearn.model_selection import train_test_split\n",
    "from sklearn.metrics import r2_score\n",
    "\n",
    "from sklearn.compose import ColumnTransformer\n",
    "from sklearn.pipeline import Pipeline\n",
    "\n",
    "from sklearn.impute import SimpleImputer\n",
    "from sklearn.preprocessing import OneHotEncoder, StandardScaler\n",
    "\n",
    "\n",
    "from sklearn.model_selection import cross_validate, GridSearchCV\n",
    "\n",
    "from sklearn.ensemble import BaggingRegressor, RandomForestRegressor,GradientBoostingRegressor,AdaBoostRegressor\n",
    "from sklearn.linear_model import LinearRegression\n",
    "from sklearn.tree import DecisionTreeRegressor\n",
    "from xgboost import XGBRegressor\n"
   ]
  },
  {
   "cell_type": "code",
   "execution_count": 127,
   "id": "2424fc4e",
   "metadata": {},
   "outputs": [],
   "source": [
    "np.random.seed(0)"
   ]
  },
  {
   "cell_type": "markdown",
   "id": "3a6edd22",
   "metadata": {
    "papermill": {
     "duration": 0.016291,
     "end_time": "2023-12-06T14:12:02.977636",
     "exception": false,
     "start_time": "2023-12-06T14:12:02.961345",
     "status": "completed"
    },
    "tags": []
   },
   "source": [
    "# 1: The Problem\n",
    "It is a supervised regression problem for estimating the house price.\n",
    "* inputs-  79 explanatory variables describing (almost) every aspect of residential homes in Ames\n",
    "* output-predict the final price of each home\n",
    "* Performance measure- r2 score"
   ]
  },
  {
   "cell_type": "markdown",
   "id": "e14b38b8",
   "metadata": {
    "_kg_hide-input": false,
    "papermill": {
     "duration": 0.016474,
     "end_time": "2023-12-06T14:12:03.009742",
     "exception": false,
     "start_time": "2023-12-06T14:12:02.993268",
     "status": "completed"
    },
    "tags": []
   },
   "source": [
    "# 2:  Data Loading and Creating sets for evaluation and exploration"
   ]
  },
  {
   "cell_type": "code",
   "execution_count": 128,
   "id": "ab9fd649",
   "metadata": {
    "_kg_hide-input": true,
    "execution": {
     "iopub.execute_input": "2023-12-06T14:12:03.043590Z",
     "iopub.status.busy": "2023-12-06T14:12:03.042942Z",
     "iopub.status.idle": "2023-12-06T14:12:04.195590Z",
     "shell.execute_reply": "2023-12-06T14:12:04.193825Z"
    },
    "papermill": {
     "duration": 1.172946,
     "end_time": "2023-12-06T14:12:04.198169",
     "exception": false,
     "start_time": "2023-12-06T14:12:03.025223",
     "status": "completed"
    },
    "tags": []
   },
   "outputs": [
    {
     "name": "stdout",
     "output_type": "stream",
     "text": [
      "Train data shape:  (1460, 81) Test data shape:  (1459, 80)\n",
      "Train data columns:  ['Id', 'MSSubClass', 'MSZoning', 'LotFrontage', 'LotArea', 'Street', 'Alley', 'LotShape', 'LandContour', 'Utilities', 'LotConfig', 'LandSlope', 'Neighborhood', 'Condition1', 'Condition2', 'BldgType', 'HouseStyle', 'OverallQual', 'OverallCond', 'YearBuilt', 'YearRemodAdd', 'RoofStyle', 'RoofMatl', 'Exterior1st', 'Exterior2nd', 'MasVnrType', 'MasVnrArea', 'ExterQual', 'ExterCond', 'Foundation', 'BsmtQual', 'BsmtCond', 'BsmtExposure', 'BsmtFinType1', 'BsmtFinSF1', 'BsmtFinType2', 'BsmtFinSF2', 'BsmtUnfSF', 'TotalBsmtSF', 'Heating', 'HeatingQC', 'CentralAir', 'Electrical', '1stFlrSF', '2ndFlrSF', 'LowQualFinSF', 'GrLivArea', 'BsmtFullBath', 'BsmtHalfBath', 'FullBath', 'HalfBath', 'BedroomAbvGr', 'KitchenAbvGr', 'KitchenQual', 'TotRmsAbvGrd', 'Functional', 'Fireplaces', 'FireplaceQu', 'GarageType', 'GarageYrBlt', 'GarageFinish', 'GarageCars', 'GarageArea', 'GarageQual', 'GarageCond', 'PavedDrive', 'WoodDeckSF', 'OpenPorchSF', 'EnclosedPorch', '3SsnPorch', 'ScreenPorch', 'PoolArea', 'PoolQC', 'Fence', 'MiscFeature', 'MiscVal', 'MoSold', 'YrSold', 'SaleType', 'SaleCondition', 'SalePrice']\n"
     ]
    }
   ],
   "source": [
    "test_data=pd.read_csv(\"test.csv\")\n",
    "train_data=pd.read_csv(\"train.csv\")\n",
    "print(\"Train data shape: \",train_data.shape, \"Test data shape: \",test_data.shape)\n",
    "print(\"Train data columns: \",list(train_data.columns))"
   ]
  },
  {
   "cell_type": "code",
   "execution_count": 129,
   "id": "5a043b96",
   "metadata": {
    "_kg_hide-input": true,
    "execution": {
     "iopub.execute_input": "2023-12-06T14:12:04.232758Z",
     "iopub.status.busy": "2023-12-06T14:12:04.232322Z",
     "iopub.status.idle": "2023-12-06T14:12:04.264383Z",
     "shell.execute_reply": "2023-12-06T14:12:04.263140Z"
    },
    "papermill": {
     "duration": 0.052774,
     "end_time": "2023-12-06T14:12:04.266735",
     "exception": false,
     "start_time": "2023-12-06T14:12:04.213961",
     "status": "completed"
    },
    "tags": []
   },
   "outputs": [
    {
     "data": {
      "text/html": [
       "<div>\n",
       "<style scoped>\n",
       "    .dataframe tbody tr th:only-of-type {\n",
       "        vertical-align: middle;\n",
       "    }\n",
       "\n",
       "    .dataframe tbody tr th {\n",
       "        vertical-align: top;\n",
       "    }\n",
       "\n",
       "    .dataframe thead th {\n",
       "        text-align: right;\n",
       "    }\n",
       "</style>\n",
       "<table border=\"1\" class=\"dataframe\">\n",
       "  <thead>\n",
       "    <tr style=\"text-align: right;\">\n",
       "      <th></th>\n",
       "      <th>Id</th>\n",
       "      <th>MSSubClass</th>\n",
       "      <th>MSZoning</th>\n",
       "      <th>LotFrontage</th>\n",
       "      <th>LotArea</th>\n",
       "      <th>Street</th>\n",
       "      <th>Alley</th>\n",
       "      <th>LotShape</th>\n",
       "      <th>LandContour</th>\n",
       "      <th>Utilities</th>\n",
       "      <th>...</th>\n",
       "      <th>PoolArea</th>\n",
       "      <th>PoolQC</th>\n",
       "      <th>Fence</th>\n",
       "      <th>MiscFeature</th>\n",
       "      <th>MiscVal</th>\n",
       "      <th>MoSold</th>\n",
       "      <th>YrSold</th>\n",
       "      <th>SaleType</th>\n",
       "      <th>SaleCondition</th>\n",
       "      <th>SalePrice</th>\n",
       "    </tr>\n",
       "  </thead>\n",
       "  <tbody>\n",
       "    <tr>\n",
       "      <th>0</th>\n",
       "      <td>1</td>\n",
       "      <td>60</td>\n",
       "      <td>RL</td>\n",
       "      <td>65.0</td>\n",
       "      <td>8450</td>\n",
       "      <td>Pave</td>\n",
       "      <td>NaN</td>\n",
       "      <td>Reg</td>\n",
       "      <td>Lvl</td>\n",
       "      <td>AllPub</td>\n",
       "      <td>...</td>\n",
       "      <td>0</td>\n",
       "      <td>NaN</td>\n",
       "      <td>NaN</td>\n",
       "      <td>NaN</td>\n",
       "      <td>0</td>\n",
       "      <td>2</td>\n",
       "      <td>2008</td>\n",
       "      <td>WD</td>\n",
       "      <td>Normal</td>\n",
       "      <td>208500</td>\n",
       "    </tr>\n",
       "    <tr>\n",
       "      <th>1</th>\n",
       "      <td>2</td>\n",
       "      <td>20</td>\n",
       "      <td>RL</td>\n",
       "      <td>80.0</td>\n",
       "      <td>9600</td>\n",
       "      <td>Pave</td>\n",
       "      <td>NaN</td>\n",
       "      <td>Reg</td>\n",
       "      <td>Lvl</td>\n",
       "      <td>AllPub</td>\n",
       "      <td>...</td>\n",
       "      <td>0</td>\n",
       "      <td>NaN</td>\n",
       "      <td>NaN</td>\n",
       "      <td>NaN</td>\n",
       "      <td>0</td>\n",
       "      <td>5</td>\n",
       "      <td>2007</td>\n",
       "      <td>WD</td>\n",
       "      <td>Normal</td>\n",
       "      <td>181500</td>\n",
       "    </tr>\n",
       "    <tr>\n",
       "      <th>2</th>\n",
       "      <td>3</td>\n",
       "      <td>60</td>\n",
       "      <td>RL</td>\n",
       "      <td>68.0</td>\n",
       "      <td>11250</td>\n",
       "      <td>Pave</td>\n",
       "      <td>NaN</td>\n",
       "      <td>IR1</td>\n",
       "      <td>Lvl</td>\n",
       "      <td>AllPub</td>\n",
       "      <td>...</td>\n",
       "      <td>0</td>\n",
       "      <td>NaN</td>\n",
       "      <td>NaN</td>\n",
       "      <td>NaN</td>\n",
       "      <td>0</td>\n",
       "      <td>9</td>\n",
       "      <td>2008</td>\n",
       "      <td>WD</td>\n",
       "      <td>Normal</td>\n",
       "      <td>223500</td>\n",
       "    </tr>\n",
       "    <tr>\n",
       "      <th>3</th>\n",
       "      <td>4</td>\n",
       "      <td>70</td>\n",
       "      <td>RL</td>\n",
       "      <td>60.0</td>\n",
       "      <td>9550</td>\n",
       "      <td>Pave</td>\n",
       "      <td>NaN</td>\n",
       "      <td>IR1</td>\n",
       "      <td>Lvl</td>\n",
       "      <td>AllPub</td>\n",
       "      <td>...</td>\n",
       "      <td>0</td>\n",
       "      <td>NaN</td>\n",
       "      <td>NaN</td>\n",
       "      <td>NaN</td>\n",
       "      <td>0</td>\n",
       "      <td>2</td>\n",
       "      <td>2006</td>\n",
       "      <td>WD</td>\n",
       "      <td>Abnorml</td>\n",
       "      <td>140000</td>\n",
       "    </tr>\n",
       "    <tr>\n",
       "      <th>4</th>\n",
       "      <td>5</td>\n",
       "      <td>60</td>\n",
       "      <td>RL</td>\n",
       "      <td>84.0</td>\n",
       "      <td>14260</td>\n",
       "      <td>Pave</td>\n",
       "      <td>NaN</td>\n",
       "      <td>IR1</td>\n",
       "      <td>Lvl</td>\n",
       "      <td>AllPub</td>\n",
       "      <td>...</td>\n",
       "      <td>0</td>\n",
       "      <td>NaN</td>\n",
       "      <td>NaN</td>\n",
       "      <td>NaN</td>\n",
       "      <td>0</td>\n",
       "      <td>12</td>\n",
       "      <td>2008</td>\n",
       "      <td>WD</td>\n",
       "      <td>Normal</td>\n",
       "      <td>250000</td>\n",
       "    </tr>\n",
       "  </tbody>\n",
       "</table>\n",
       "<p>5 rows × 81 columns</p>\n",
       "</div>"
      ],
      "text/plain": [
       "   Id  MSSubClass MSZoning  LotFrontage  LotArea Street Alley LotShape  \\\n",
       "0   1          60       RL         65.0     8450   Pave   NaN      Reg   \n",
       "1   2          20       RL         80.0     9600   Pave   NaN      Reg   \n",
       "2   3          60       RL         68.0    11250   Pave   NaN      IR1   \n",
       "3   4          70       RL         60.0     9550   Pave   NaN      IR1   \n",
       "4   5          60       RL         84.0    14260   Pave   NaN      IR1   \n",
       "\n",
       "  LandContour Utilities  ... PoolArea PoolQC Fence MiscFeature MiscVal MoSold  \\\n",
       "0         Lvl    AllPub  ...        0    NaN   NaN         NaN       0      2   \n",
       "1         Lvl    AllPub  ...        0    NaN   NaN         NaN       0      5   \n",
       "2         Lvl    AllPub  ...        0    NaN   NaN         NaN       0      9   \n",
       "3         Lvl    AllPub  ...        0    NaN   NaN         NaN       0      2   \n",
       "4         Lvl    AllPub  ...        0    NaN   NaN         NaN       0     12   \n",
       "\n",
       "  YrSold  SaleType  SaleCondition  SalePrice  \n",
       "0   2008        WD         Normal     208500  \n",
       "1   2007        WD         Normal     181500  \n",
       "2   2008        WD         Normal     223500  \n",
       "3   2006        WD        Abnorml     140000  \n",
       "4   2008        WD         Normal     250000  \n",
       "\n",
       "[5 rows x 81 columns]"
      ]
     },
     "execution_count": 129,
     "metadata": {},
     "output_type": "execute_result"
    }
   ],
   "source": [
    "train_data.head()"
   ]
  },
  {
   "cell_type": "markdown",
   "id": "d4fc7fec",
   "metadata": {
    "_kg_hide-input": true,
    "papermill": {
     "duration": 0.089847,
     "end_time": "2023-12-06T14:12:04.437365",
     "exception": false,
     "start_time": "2023-12-06T14:12:04.347518",
     "status": "completed"
    },
    "tags": []
   },
   "source": [
    "### Creating sets for evaluation and exploration"
   ]
  },
  {
   "cell_type": "code",
   "execution_count": 130,
   "id": "6f033019",
   "metadata": {
    "_kg_hide-input": true,
    "execution": {
     "iopub.execute_input": "2023-12-06T14:12:04.476359Z",
     "iopub.status.busy": "2023-12-06T14:12:04.475795Z",
     "iopub.status.idle": "2023-12-06T14:12:04.605280Z",
     "shell.execute_reply": "2023-12-06T14:12:04.604061Z"
    },
    "papermill": {
     "duration": 0.150709,
     "end_time": "2023-12-06T14:12:04.607926",
     "exception": false,
     "start_time": "2023-12-06T14:12:04.457217",
     "status": "completed"
    },
    "tags": []
   },
   "outputs": [],
   "source": [
    "train, test = train_test_split(train_data, test_size=0.2, random_state=42)\n",
    "\n",
    "exploration_set=train.copy()\n",
    "\n",
    "X_train=train.drop(['SalePrice'],axis=1)\n",
    "y_train=train['SalePrice']\n",
    "\n",
    "X_test=test.drop(['SalePrice'],axis=1)\n",
    "y_test=test['SalePrice']"
   ]
  },
  {
   "cell_type": "markdown",
   "id": "c282f307",
   "metadata": {
    "papermill": {
     "duration": 0.017389,
     "end_time": "2023-12-06T14:12:04.642399",
     "exception": false,
     "start_time": "2023-12-06T14:12:04.625010",
     "status": "completed"
    },
    "tags": []
   },
   "source": [
    "# 3. Exploratory Data Analysis"
   ]
  },
  {
   "cell_type": "code",
   "execution_count": 131,
   "id": "28559214",
   "metadata": {
    "execution": {
     "iopub.execute_input": "2023-12-06T14:12:04.679234Z",
     "iopub.status.busy": "2023-12-06T14:12:04.678154Z",
     "iopub.status.idle": "2023-12-06T14:12:08.096829Z",
     "shell.execute_reply": "2023-12-06T14:12:08.095915Z"
    },
    "papermill": {
     "duration": 3.439079,
     "end_time": "2023-12-06T14:12:08.099507",
     "exception": false,
     "start_time": "2023-12-06T14:12:04.660428",
     "status": "completed"
    },
    "tags": []
   },
   "outputs": [
    {
     "data": {
      "text/plain": [
       "array([[<Axes: title={'center': 'Id'}>,\n",
       "        <Axes: title={'center': 'MSSubClass'}>,\n",
       "        <Axes: title={'center': 'LotFrontage'}>,\n",
       "        <Axes: title={'center': 'LotArea'}>,\n",
       "        <Axes: title={'center': 'OverallQual'}>,\n",
       "        <Axes: title={'center': 'OverallCond'}>],\n",
       "       [<Axes: title={'center': 'YearBuilt'}>,\n",
       "        <Axes: title={'center': 'YearRemodAdd'}>,\n",
       "        <Axes: title={'center': 'MasVnrArea'}>,\n",
       "        <Axes: title={'center': 'BsmtFinSF1'}>,\n",
       "        <Axes: title={'center': 'BsmtFinSF2'}>,\n",
       "        <Axes: title={'center': 'BsmtUnfSF'}>],\n",
       "       [<Axes: title={'center': 'TotalBsmtSF'}>,\n",
       "        <Axes: title={'center': '1stFlrSF'}>,\n",
       "        <Axes: title={'center': '2ndFlrSF'}>,\n",
       "        <Axes: title={'center': 'LowQualFinSF'}>,\n",
       "        <Axes: title={'center': 'GrLivArea'}>,\n",
       "        <Axes: title={'center': 'BsmtFullBath'}>],\n",
       "       [<Axes: title={'center': 'BsmtHalfBath'}>,\n",
       "        <Axes: title={'center': 'FullBath'}>,\n",
       "        <Axes: title={'center': 'HalfBath'}>,\n",
       "        <Axes: title={'center': 'BedroomAbvGr'}>,\n",
       "        <Axes: title={'center': 'KitchenAbvGr'}>,\n",
       "        <Axes: title={'center': 'TotRmsAbvGrd'}>],\n",
       "       [<Axes: title={'center': 'Fireplaces'}>,\n",
       "        <Axes: title={'center': 'GarageYrBlt'}>,\n",
       "        <Axes: title={'center': 'GarageCars'}>,\n",
       "        <Axes: title={'center': 'GarageArea'}>,\n",
       "        <Axes: title={'center': 'WoodDeckSF'}>,\n",
       "        <Axes: title={'center': 'OpenPorchSF'}>],\n",
       "       [<Axes: title={'center': 'EnclosedPorch'}>,\n",
       "        <Axes: title={'center': '3SsnPorch'}>,\n",
       "        <Axes: title={'center': 'ScreenPorch'}>,\n",
       "        <Axes: title={'center': 'PoolArea'}>,\n",
       "        <Axes: title={'center': 'MiscVal'}>,\n",
       "        <Axes: title={'center': 'MoSold'}>],\n",
       "       [<Axes: title={'center': 'YrSold'}>,\n",
       "        <Axes: title={'center': 'SalePrice'}>, <Axes: >, <Axes: >,\n",
       "        <Axes: >, <Axes: >]], dtype=object)"
      ]
     },
     "execution_count": 131,
     "metadata": {},
     "output_type": "execute_result"
    },
    {
     "data": {
      "image/png": "[encoded data removed]",
      "text/plain": [
       "<Figure size 1200x1000 with 42 Axes>"
      ]
     },
     "metadata": {},
     "output_type": "display_data"
    }
   ],
   "source": [
    "exploration_set.hist(bins=50, figsize=(12,10))"
   ]
  },
  {
   "cell_type": "markdown",
   "id": "625f37fe",
   "metadata": {
    "papermill": {
     "duration": 0.023556,
     "end_time": "2023-12-06T14:12:19.608601",
     "exception": false,
     "start_time": "2023-12-06T14:12:19.585045",
     "status": "completed"
    },
    "tags": []
   },
   "source": [
    "# 4. Data Preprocessing"
   ]
  },
  {
   "cell_type": "markdown",
   "id": "1abb7c38",
   "metadata": {
    "papermill": {
     "duration": 0.024017,
     "end_time": "2023-12-06T14:12:19.656168",
     "exception": false,
     "start_time": "2023-12-06T14:12:19.632151",
     "status": "completed"
    },
    "tags": []
   },
   "source": [
    "###  Data cleaning- Handling missing values"
   ]
  },
  {
   "cell_type": "code",
   "execution_count": 132,
   "id": "2ada0640",
   "metadata": {
    "execution": {
     "iopub.execute_input": "2023-12-06T14:12:19.704640Z",
     "iopub.status.busy": "2023-12-06T14:12:19.704274Z",
     "iopub.status.idle": "2023-12-06T14:12:19.766812Z",
     "shell.execute_reply": "2023-12-06T14:12:19.765693Z"
    },
    "papermill": {
     "duration": 0.089972,
     "end_time": "2023-12-06T14:12:19.769592",
     "exception": false,
     "start_time": "2023-12-06T14:12:19.679620",
     "status": "completed"
    },
    "tags": []
   },
   "outputs": [],
   "source": [
    "#Finding missing values\n",
    "(X_train.isna().sum()/X_train.shape[0]).sort_values(ascending=False).head(20)\n",
    "#Dropping columns with more than 50% missing values\n",
    "X_train=X_train.drop(['PoolQC','MiscFeature','Alley','Fence','FireplaceQu'],axis=1)"
   ]
  },
  {
   "cell_type": "markdown",
   "id": "3c5e7562",
   "metadata": {},
   "source": [
    "We can observe that 'PoolQC','MiscFeature','Alley','Fence','FireplaceQu' have high percentage of missing values. Hence we need to drop them. We need to impute other columns."
   ]
  },
  {
   "cell_type": "markdown",
   "id": "75a0c123",
   "metadata": {
    "papermill": {
     "duration": 0.027135,
     "end_time": "2023-12-06T14:12:20.393013",
     "exception": false,
     "start_time": "2023-12-06T14:12:20.365878",
     "status": "completed"
    },
    "tags": []
   },
   "source": [
    "### Data preprocessing Pipeline"
   ]
  },
  {
   "cell_type": "markdown",
   "id": "20d60ef9",
   "metadata": {
    "papermill": {
     "duration": 0.024554,
     "end_time": "2023-12-06T14:12:20.557589",
     "exception": false,
     "start_time": "2023-12-06T14:12:20.533035",
     "status": "completed"
    },
    "tags": []
   },
   "source": [
    "**Imputation and Encoding**"
   ]
  },
  {
   "cell_type": "code",
   "execution_count": 133,
   "id": "8cae6853",
   "metadata": {
    "execution": {
     "iopub.execute_input": "2023-12-06T14:12:20.608999Z",
     "iopub.status.busy": "2023-12-06T14:12:20.607975Z",
     "iopub.status.idle": "2023-12-06T14:12:20.615216Z",
     "shell.execute_reply": "2023-12-06T14:12:20.614235Z"
    },
    "papermill": {
     "duration": 0.036674,
     "end_time": "2023-12-06T14:12:20.618526",
     "exception": false,
     "start_time": "2023-12-06T14:12:20.581852",
     "status": "completed"
    },
    "tags": []
   },
   "outputs": [],
   "source": [
    "numeric_cols = [ 'LotFrontage', 'LotArea',  'YearBuilt', 'YearRemodAdd', 'MasVnrArea', 'BsmtFinSF1','BsmtFinSF2', 'BsmtUnfSF', 'TotalBsmtSF', '1stFlrSF', '2ndFlrSF',\n",
    "'LowQualFinSF', 'GrLivArea', 'BsmtFullBath', 'BsmtHalfBath','GarageYrBlt', 'FullBath','HalfBath', 'BedroomAbvGr', 'KitchenAbvGr', 'TotRmsAbvGrd','Fireplaces', 'GarageCars', 'GarageArea', 'WoodDeckSF','OpenPorchSF', 'EnclosedPorch', '3SsnPorch', 'ScreenPorch', 'PoolArea','MiscVal']\n",
    "\n",
    "categorical_cols = ['MSSubClass','MSZoning','OverallQual','OverallCond', 'Street',  'LotShape', 'LandContour', 'Utilities','LotConfig', 'LandSlope', 'Neighborhood', 'Condition1', 'Condition2','BldgType', 'HouseStyle', 'RoofStyle', 'RoofMatl', 'Exterior1st',\n",
    "'Exterior2nd', 'ExterQual', 'ExterCond', 'Foundation','BsmtQual', 'BsmtCond', 'BsmtExposure', 'BsmtFinType1', 'BsmtFinType2','Heating', 'HeatingQC', 'CentralAir', 'Electrical', 'KitchenQual','Functional',  'GarageType', 'GarageFinish', 'GarageQual','GarageCond', 'PavedDrive', 'SaleType', 'SaleCondition', 'MoSold', 'YrSold']\n",
    "\n",
    "numeric_transformer = Pipeline(steps=[\n",
    "    ('imputer', SimpleImputer(strategy='mean'))   \n",
    "])\n",
    "\n",
    "categorical_transformer = Pipeline(steps=[\n",
    "    ('imputer', SimpleImputer(strategy='most_frequent')),\n",
    "    ('onehot', OneHotEncoder(handle_unknown='ignore'))\n",
    "])\n",
    "impute_encode = ColumnTransformer(\n",
    "    transformers=[\n",
    "        ('num', numeric_transformer, numeric_cols),\n",
    "        ('cat', categorical_transformer, categorical_cols),\n",
    "        \n",
    "    ],sparse_threshold=0)"
   ]
  },
  {
   "cell_type": "code",
   "execution_count": 134,
   "id": "e58349a7",
   "metadata": {},
   "outputs": [
    {
     "data": {
      "text/plain": [
       "'for col in X_train.columns:\\n    if col not in numeric_cols and col not in categorical_cols:\\n        print(col)'"
      ]
     },
     "execution_count": 134,
     "metadata": {},
     "output_type": "execute_result"
    }
   ],
   "source": [
    "'''for col in X_train.columns:\n",
    "    if col not in numeric_cols and col not in categorical_cols:\n",
    "        print(col)'''"
   ]
  },
  {
   "cell_type": "code",
   "execution_count": 135,
   "id": "37d9dcc9",
   "metadata": {},
   "outputs": [],
   "source": [
    "#len(numeric_cols)+len(categorical_cols)"
   ]
  },
  {
   "cell_type": "markdown",
   "id": "00873739",
   "metadata": {
    "papermill": {
     "duration": 0.023647,
     "end_time": "2023-12-06T14:12:20.730200",
     "exception": false,
     "start_time": "2023-12-06T14:12:20.706553",
     "status": "completed"
    },
    "tags": []
   },
   "source": [
    "**The Final Preprocessing Pipeline**"
   ]
  },
  {
   "cell_type": "code",
   "execution_count": 136,
   "id": "65ca2cc7",
   "metadata": {
    "execution": {
     "iopub.execute_input": "2023-12-06T14:12:20.781737Z",
     "iopub.status.busy": "2023-12-06T14:12:20.781058Z",
     "iopub.status.idle": "2023-12-06T14:12:20.786484Z",
     "shell.execute_reply": "2023-12-06T14:12:20.785204Z"
    },
    "papermill": {
     "duration": 0.034037,
     "end_time": "2023-12-06T14:12:20.788945",
     "exception": false,
     "start_time": "2023-12-06T14:12:20.754908",
     "status": "completed"
    },
    "tags": []
   },
   "outputs": [],
   "source": [
    "\n",
    "data_preprocessing = Pipeline(steps=[('impute_encode', impute_encode),\n",
    "                                     ('scaler', StandardScaler()),\n",
    "                                     ])\n"
   ]
  },
  {
   "cell_type": "markdown",
   "id": "3edb09e7",
   "metadata": {
    "papermill": {
     "duration": 0.023412,
     "end_time": "2023-12-06T14:12:20.837714",
     "exception": false,
     "start_time": "2023-12-06T14:12:20.814302",
     "status": "completed"
    },
    "tags": []
   },
   "source": [
    "### Functions for Model Evaluation with cross validation"
   ]
  },
  {
   "cell_type": "code",
   "execution_count": 137,
   "id": "5d52c7b4",
   "metadata": {
    "execution": {
     "iopub.execute_input": "2023-12-06T14:12:20.888011Z",
     "iopub.status.busy": "2023-12-06T14:12:20.887382Z",
     "iopub.status.idle": "2023-12-06T14:12:20.893400Z",
     "shell.execute_reply": "2023-12-06T14:12:20.892381Z"
    },
    "papermill": {
     "duration": 0.034438,
     "end_time": "2023-12-06T14:12:20.896055",
     "exception": false,
     "start_time": "2023-12-06T14:12:20.861617",
     "status": "completed"
    },
    "tags": []
   },
   "outputs": [],
   "source": [
    "def train_regressor(estimator, X_train, y_train, cv, name):\n",
    "  estimator.fit(X_train, y_train)\n",
    "  cv_results = cross_validate(estimator,\n",
    "                              X_train, \n",
    "                              y_train, \n",
    "                              cv=cv,\n",
    "                              scoring=\"r2\",\n",
    "                              return_train_score=True,\n",
    "                              return_estimator=True)\n",
    "  train_score = cv_results[\"train_score\"]\n",
    "  test_score = cv_results[\"test_score\"]\n",
    "  print(f\"Average Train r2 Score : {train_score.mean():.2f} +/- {train_score.std():.2f}\")\n",
    "  print(f\"Average Test r2 Score: {test_score.mean():.2f} +/- {test_score.std():.2f}\")\n",
    "\n"
   ]
  },
  {
   "cell_type": "code",
   "execution_count": 138,
   "id": "e51049ae",
   "metadata": {
    "execution": {
     "iopub.execute_input": "2023-12-06T14:12:20.949049Z",
     "iopub.status.busy": "2023-12-06T14:12:20.948187Z",
     "iopub.status.idle": "2023-12-06T14:12:20.953406Z",
     "shell.execute_reply": "2023-12-06T14:12:20.952495Z"
    },
    "papermill": {
     "duration": 0.033803,
     "end_time": "2023-12-06T14:12:20.955810",
     "exception": false,
     "start_time": "2023-12-06T14:12:20.922007",
     "status": "completed"
    },
    "tags": []
   },
   "outputs": [],
   "source": [
    "def eval(estimator, X_test, y_test):\n",
    "  y_pred = estimator.predict(X_test)\n",
    "  error = r2_score(y_test, y_pred)\n",
    "  print(f\"r2 score on Test data: {error:.2f}\")"
   ]
  },
  {
   "cell_type": "code",
   "execution_count": 139,
   "id": "5f178c74",
   "metadata": {
    "execution": {
     "iopub.execute_input": "2023-12-06T14:12:21.007388Z",
     "iopub.status.busy": "2023-12-06T14:12:21.006789Z",
     "iopub.status.idle": "2023-12-06T14:12:21.011095Z",
     "shell.execute_reply": "2023-12-06T14:12:21.010284Z"
    },
    "papermill": {
     "duration": 0.032815,
     "end_time": "2023-12-06T14:12:21.013629",
     "exception": false,
     "start_time": "2023-12-06T14:12:20.980814",
     "status": "completed"
    },
    "tags": []
   },
   "outputs": [],
   "source": [
    "cv = 5 #ShuffleSplit(n_splits=5, test_size=0.2, random_state=42)"
   ]
  },
  {
   "cell_type": "markdown",
   "id": "18e569d1",
   "metadata": {},
   "source": [
    "# Models for Training"
   ]
  },
  {
   "cell_type": "markdown",
   "id": "3c91b046",
   "metadata": {
    "papermill": {
     "duration": 0.025562,
     "end_time": "2023-12-06T14:12:21.063953",
     "exception": false,
     "start_time": "2023-12-06T14:12:21.038391",
     "status": "completed"
    },
    "tags": []
   },
   "source": [
    "## Model 1: Linear Regression"
   ]
  },
  {
   "cell_type": "code",
   "execution_count": 140,
   "id": "e03f0ac3",
   "metadata": {
    "execution": {
     "iopub.execute_input": "2023-12-06T14:12:21.162976Z",
     "iopub.status.busy": "2023-12-06T14:12:21.161879Z",
     "iopub.status.idle": "2023-12-06T14:12:21.168824Z",
     "shell.execute_reply": "2023-12-06T14:12:21.167731Z"
    },
    "papermill": {
     "duration": 0.035069,
     "end_time": "2023-12-06T14:12:21.171219",
     "exception": false,
     "start_time": "2023-12-06T14:12:21.136150",
     "status": "completed"
    },
    "tags": []
   },
   "outputs": [],
   "source": [
    "lin_reg_pipeline = Pipeline(steps=[('preprocessing', data_preprocessing),\n",
    "                                 ('model', LinearRegression())])\n"
   ]
  },
  {
   "cell_type": "markdown",
   "id": "db692323",
   "metadata": {
    "papermill": {
     "duration": 0.024576,
     "end_time": "2023-12-06T14:12:21.945590",
     "exception": false,
     "start_time": "2023-12-06T14:12:21.921014",
     "status": "completed"
    },
    "tags": []
   },
   "source": [
    "## Model2: DecisionTreeRegressor"
   ]
  },
  {
   "cell_type": "code",
   "execution_count": 141,
   "id": "4155d400",
   "metadata": {
    "execution": {
     "iopub.execute_input": "2023-12-06T14:12:22.048463Z",
     "iopub.status.busy": "2023-12-06T14:12:22.047643Z",
     "iopub.status.idle": "2023-12-06T14:12:22.052999Z",
     "shell.execute_reply": "2023-12-06T14:12:22.052196Z"
    },
    "papermill": {
     "duration": 0.034128,
     "end_time": "2023-12-06T14:12:22.055422",
     "exception": false,
     "start_time": "2023-12-06T14:12:22.021294",
     "status": "completed"
    },
    "tags": []
   },
   "outputs": [],
   "source": [
    "dt_reg_pipeline = Pipeline([('preprocessing', data_preprocessing),\n",
    "                            (\"dt_reg\", DecisionTreeRegressor(random_state = 42))])"
   ]
  },
  {
   "cell_type": "markdown",
   "id": "fbecbae5",
   "metadata": {
    "papermill": {
     "duration": 0.029095,
     "end_time": "2023-12-06T14:12:22.519650",
     "exception": false,
     "start_time": "2023-12-06T14:12:22.490555",
     "status": "completed"
    },
    "tags": []
   },
   "source": [
    "## Model 3 : BaggingRegressor"
   ]
  },
  {
   "cell_type": "code",
   "execution_count": 142,
   "id": "e2e31426",
   "metadata": {
    "_kg_hide-input": true,
    "execution": {
     "iopub.execute_input": "2023-12-06T14:12:22.626462Z",
     "iopub.status.busy": "2023-12-06T14:12:22.625750Z",
     "iopub.status.idle": "2023-12-06T14:12:22.630806Z",
     "shell.execute_reply": "2023-12-06T14:12:22.629899Z"
    },
    "papermill": {
     "duration": 0.034587,
     "end_time": "2023-12-06T14:12:22.633253",
     "exception": false,
     "start_time": "2023-12-06T14:12:22.598666",
     "status": "completed"
    },
    "tags": []
   },
   "outputs": [],
   "source": [
    "bagging_regressor_pipeline =Pipeline(steps=[('preprocessing', data_preprocessing),\n",
    "                                     ('mod',BaggingRegressor( random_state=42))\n",
    "                                     ])"
   ]
  },
  {
   "cell_type": "markdown",
   "id": "fd6f1ef3",
   "metadata": {
    "papermill": {
     "duration": 0.024989,
     "end_time": "2023-12-06T14:12:22.961517",
     "exception": false,
     "start_time": "2023-12-06T14:12:22.936528",
     "status": "completed"
    },
    "tags": []
   },
   "source": [
    "## Model 4: RandomForestRegressor"
   ]
  },
  {
   "cell_type": "code",
   "execution_count": 143,
   "id": "1a40eff8",
   "metadata": {
    "execution": {
     "iopub.execute_input": "2023-12-06T14:12:23.065356Z",
     "iopub.status.busy": "2023-12-06T14:12:23.064666Z",
     "iopub.status.idle": "2023-12-06T14:12:23.069864Z",
     "shell.execute_reply": "2023-12-06T14:12:23.068734Z"
    },
    "papermill": {
     "duration": 0.034814,
     "end_time": "2023-12-06T14:12:23.072495",
     "exception": false,
     "start_time": "2023-12-06T14:12:23.037681",
     "status": "completed"
    },
    "tags": []
   },
   "outputs": [],
   "source": [
    "random_forest_pipeline=Pipeline(steps=[('preprocessing', data_preprocessing),\n",
    "                                     ('mod',RandomForestRegressor(n_estimators=100, random_state=42))\n",
    "                                     ])"
   ]
  },
  {
   "cell_type": "markdown",
   "id": "39017c36",
   "metadata": {},
   "source": [
    "## Model 5: GradientBoostingRegressor"
   ]
  },
  {
   "cell_type": "code",
   "execution_count": 144,
   "id": "a51231de",
   "metadata": {},
   "outputs": [],
   "source": [
    "\n",
    "gradient_boosting_pipeline=Pipeline(steps=[('preprocessing', data_preprocessing),\n",
    "                                        ('mod',GradientBoostingRegressor(n_estimators=100, random_state=42))\n",
    "                                        ])"
   ]
  },
  {
   "cell_type": "markdown",
   "id": "7f760993",
   "metadata": {},
   "source": [
    "## Model 6: adaboost"
   ]
  },
  {
   "cell_type": "code",
   "execution_count": 145,
   "id": "48882a5e",
   "metadata": {},
   "outputs": [],
   "source": [
    "ada_boost_pipeline=Pipeline(steps=[('preprocessing', data_preprocessing),\n",
    "                                        ('mod',AdaBoostRegressor(n_estimators=100, random_state=42))\n",
    "                                        ])\n"
   ]
  },
  {
   "cell_type": "markdown",
   "id": "849a502e",
   "metadata": {},
   "source": [
    "## Model 7: XGBoost"
   ]
  },
  {
   "cell_type": "code",
   "execution_count": 146,
   "id": "fce16cf4",
   "metadata": {},
   "outputs": [],
   "source": [
    "xgb_pipeline=Pipeline(steps=[('preprocessing', data_preprocessing),\n",
    "                                        ('mod',XGBRegressor(n_estimators=100, random_state=42))\n",
    "                                        ])\n"
   ]
  },
  {
   "cell_type": "markdown",
   "id": "6ea136f6",
   "metadata": {},
   "source": [
    "## Model evaluation"
   ]
  },
  {
   "cell_type": "code",
   "execution_count": 147,
   "id": "0222df06",
   "metadata": {},
   "outputs": [
    {
     "name": "stdout",
     "output_type": "stream",
     "text": [
      "Linear Regression\n",
      "Average Train r2 Score : 0.95 +/- 0.01\n",
      "Average Test r2 Score: -783188300354879701909504.00 +/- 1007465302790487016472576.00\n",
      "r2 score on Test data: -86088981688156491350016.00\n",
      "\n",
      "Decision Tree Regressor\n",
      "Average Train r2 Score : 1.00 +/- 0.00\n",
      "Average Test r2 Score: 0.62 +/- 0.09\n",
      "r2 score on Test data: 0.79\n",
      "\n",
      "Bagging Regressor\n",
      "Average Train r2 Score : 0.97 +/- 0.00\n",
      "Average Test r2 Score: 0.80 +/- 0.06\n",
      "r2 score on Test data: 0.88\n",
      "\n",
      "Random Forest Regressor\n",
      "Average Train r2 Score : 0.98 +/- 0.00\n",
      "Average Test r2 Score: 0.83 +/- 0.06\n",
      "r2 score on Test data: 0.89\n",
      "\n",
      "Gradient Boosting Regressor\n",
      "Average Train r2 Score : 0.97 +/- 0.00\n",
      "Average Test r2 Score: 0.85 +/- 0.04\n",
      "r2 score on Test data: 0.91\n",
      "\n",
      "Ada Boost Regressor\n",
      "Average Train r2 Score : 0.87 +/- 0.01\n",
      "Average Test r2 Score: 0.75 +/- 0.06\n",
      "r2 score on Test data: 0.78\n",
      "\n",
      "XGB Regressor\n",
      "Average Train r2 Score : 1.00 +/- 0.00\n",
      "Average Test r2 Score: 0.82 +/- 0.05\n",
      "r2 score on Test data: 0.90\n",
      "\n"
     ]
    }
   ],
   "source": [
    "\n",
    "model_pipelines = [lin_reg_pipeline, dt_reg_pipeline, bagging_regressor_pipeline, random_forest_pipeline, gradient_boosting_pipeline, ada_boost_pipeline, xgb_pipeline]\n",
    "model_names = [\"Linear Regression\", \"Decision Tree Regressor\", \"Bagging Regressor\", \"Random Forest Regressor\", \"Gradient Boosting Regressor\", \"Ada Boost Regressor\", \"XGB Regressor\"]\n",
    "\n",
    "for model_pipeline, model_name in zip(model_pipelines, model_names):\n",
    "  print(model_name)\n",
    "  train_regressor(model_pipeline, X_train, y_train, cv=5, name=model_name)\n",
    "  eval(model_pipeline, X_test, y_test)\n",
    "  print()"
   ]
  },
  {
   "cell_type": "markdown",
   "id": "b4c2289a",
   "metadata": {
    "papermill": {
     "duration": 0.02538,
     "end_time": "2023-12-06T14:13:38.323559",
     "exception": false,
     "start_time": "2023-12-06T14:13:38.298179",
     "status": "completed"
    },
    "tags": []
   },
   "source": [
    "**Model Comparision:**\n",
    "We can find that model performed best on Gradient Boosting Regressor. But it also performed comparitively well on XGB Regressor.\n",
    "But it performed poorly on simple linear regression model but better on tree based algorithms and best on boosting models.\n",
    "Hence Gradient Boosting Regressor used for tuning and final prediction."
   ]
  },
  {
   "cell_type": "markdown",
   "id": "b4897c21",
   "metadata": {},
   "source": [
    "## Hyper parameter tuning for the best model- gradient boosting"
   ]
  },
  {
   "cell_type": "code",
   "execution_count": 148,
   "id": "70a83b21",
   "metadata": {},
   "outputs": [
    {
     "name": "stdout",
     "output_type": "stream",
     "text": [
      "Fitting 5 folds for each of 36 candidates, totalling 180 fits\n",
      "{'mod__max_depth': 5, 'mod__min_samples_split': 10, 'mod__n_estimators': 300}\n"
     ]
    }
   ],
   "source": [
    "\n",
    "param_grid = {\n",
    "    'mod__n_estimators': [100, 200, 300],\n",
    "    'mod__max_depth': [None, 5, 10, 15],\n",
    "    'mod__min_samples_split': [2, 5, 10]\n",
    "}\n",
    "\n",
    "grid_search=GridSearchCV(gradient_boosting_pipeline, param_grid, cv=cv, scoring='neg_root_mean_squared_error', n_jobs=-1, verbose=3)\n",
    "\n",
    "grid_search.fit(X_train, y_train)\n",
    "\n",
    "print(grid_search.best_params_)"
   ]
  },
  {
   "cell_type": "markdown",
   "id": "d6139192",
   "metadata": {},
   "source": [
    "### Retraing Model with Best Parameters from HPT"
   ]
  },
  {
   "cell_type": "code",
   "execution_count": 154,
   "id": "99567ca6",
   "metadata": {},
   "outputs": [
    {
     "data": {
      "text/html": [
       "<style>#sk-container-id-5 {color: black;}#sk-container-id-5 pre{padding: 0;}#sk-container-id-5 div.sk-toggleable {background-color: white;}#sk-container-id-5 label.sk-toggleable__label {cursor: pointer;display: block;width: 100%;margin-bottom: 0;padding: 0.3em;box-sizing: border-box;text-align: center;}#sk-container-id-5 label.sk-toggleable__label-arrow:before {content: \"▸\";float: left;margin-right: 0.25em;color: #696969;}#sk-container-id-5 label.sk-toggleable__label-arrow:hover:before {color: black;}#sk-container-id-5 div.sk-estimator:hover label.sk-toggleable__label-arrow:before {color: black;}#sk-container-id-5 div.sk-toggleable__content {max-height: 0;max-width: 0;overflow: hidden;text-align: left;background-color: #f0f8ff;}#sk-container-id-5 div.sk-toggleable__content pre {margin: 0.2em;color: black;border-radius: 0.25em;background-color: #f0f8ff;}#sk-container-id-5 input.sk-toggleable__control:checked~div.sk-toggleable__content {max-height: 200px;max-width: 100%;overflow: auto;}#sk-container-id-5 input.sk-toggleable__control:checked~label.sk-toggleable__label-arrow:before {content: \"▾\";}#sk-container-id-5 div.sk-estimator input.sk-toggleable__control:checked~label.sk-toggleable__label {background-color: #d4ebff;}#sk-container-id-5 div.sk-label input.sk-toggleable__control:checked~label.sk-toggleable__label {background-color: #d4ebff;}#sk-container-id-5 input.sk-hidden--visually {border: 0;clip: rect(1px 1px 1px 1px);clip: rect(1px, 1px, 1px, 1px);height: 1px;margin: -1px;overflow: hidden;padding: 0;position: absolute;width: 1px;}#sk-container-id-5 div.sk-estimator {font-family: monospace;background-color: #f0f8ff;border: 1px dotted black;border-radius: 0.25em;box-sizing: border-box;margin-bottom: 0.5em;}#sk-container-id-5 div.sk-estimator:hover {background-color: #d4ebff;}#sk-container-id-5 div.sk-parallel-item::after {content: \"\";width: 100%;border-bottom: 1px solid gray;flex-grow: 1;}#sk-container-id-5 div.sk-label:hover label.sk-toggleable__label {background-color: #d4ebff;}#sk-container-id-5 div.sk-serial::before {content: \"\";position: absolute;border-left: 1px solid gray;box-sizing: border-box;top: 0;bottom: 0;left: 50%;z-index: 0;}#sk-container-id-5 div.sk-serial {display: flex;flex-direction: column;align-items: center;background-color: white;padding-right: 0.2em;padding-left: 0.2em;position: relative;}#sk-container-id-5 div.sk-item {position: relative;z-index: 1;}#sk-container-id-5 div.sk-parallel {display: flex;align-items: stretch;justify-content: center;background-color: white;position: relative;}#sk-container-id-5 div.sk-item::before, #sk-container-id-5 div.sk-parallel-item::before {content: \"\";position: absolute;border-left: 1px solid gray;box-sizing: border-box;top: 0;bottom: 0;left: 50%;z-index: -1;}#sk-container-id-5 div.sk-parallel-item {display: flex;flex-direction: column;z-index: 1;position: relative;background-color: white;}#sk-container-id-5 div.sk-parallel-item:first-child::after {align-self: flex-end;width: 50%;}#sk-container-id-5 div.sk-parallel-item:last-child::after {align-self: flex-start;width: 50%;}#sk-container-id-5 div.sk-parallel-item:only-child::after {width: 0;}#sk-container-id-5 div.sk-dashed-wrapped {border: 1px dashed gray;margin: 0 0.4em 0.5em 0.4em;box-sizing: border-box;padding-bottom: 0.4em;background-color: white;}#sk-container-id-5 div.sk-label label {font-family: monospace;font-weight: bold;display: inline-block;line-height: 1.2em;}#sk-container-id-5 div.sk-label-container {text-align: center;}#sk-container-id-5 div.sk-container {/* jupyter's `normalize.less` sets `[hidden] { display: none; }` but bootstrap.min.css set `[hidden] { display: none !important; }` so we also need the `!important` here to be able to override the default hidden behavior on the sphinx rendered scikit-learn.org. See: https://github.com/scikit-learn/scikit-learn/issues/21755 */display: inline-block !important;position: relative;}#sk-container-id-5 div.sk-text-repr-fallback {display: none;}</style><div id=\"sk-container-id-5\" class=\"sk-top-container\"><div class=\"sk-text-repr-fallback\"><pre>Pipeline(steps=[(&#x27;preprocessing&#x27;,\n",
       "                 Pipeline(steps=[(&#x27;impute_encode&#x27;,\n",
       "                                  ColumnTransformer(sparse_threshold=0,\n",
       "                                                    transformers=[(&#x27;num&#x27;,\n",
       "                                                                   Pipeline(steps=[(&#x27;imputer&#x27;,\n",
       "                                                                                    SimpleImputer())]),\n",
       "                                                                   [&#x27;LotFrontage&#x27;,\n",
       "                                                                    &#x27;LotArea&#x27;,\n",
       "                                                                    &#x27;YearBuilt&#x27;,\n",
       "                                                                    &#x27;YearRemodAdd&#x27;,\n",
       "                                                                    &#x27;MasVnrArea&#x27;,\n",
       "                                                                    &#x27;BsmtFinSF1&#x27;,\n",
       "                                                                    &#x27;BsmtFinSF2&#x27;,\n",
       "                                                                    &#x27;BsmtUnfSF&#x27;,\n",
       "                                                                    &#x27;TotalBsmtSF&#x27;,\n",
       "                                                                    &#x27;1stFlrSF&#x27;,\n",
       "                                                                    &#x27;2ndFlrSF&#x27;,\n",
       "                                                                    &#x27;LowQualFinSF&#x27;,\n",
       "                                                                    &#x27;GrLivArea&#x27;,\n",
       "                                                                    &#x27;BsmtFullBath&#x27;...\n",
       "                                                                    &#x27;BldgType&#x27;,\n",
       "                                                                    &#x27;HouseStyle&#x27;,\n",
       "                                                                    &#x27;RoofStyle&#x27;,\n",
       "                                                                    &#x27;RoofMatl&#x27;,\n",
       "                                                                    &#x27;Exterior1st&#x27;,\n",
       "                                                                    &#x27;Exterior2nd&#x27;,\n",
       "                                                                    &#x27;ExterQual&#x27;,\n",
       "                                                                    &#x27;ExterCond&#x27;,\n",
       "                                                                    &#x27;Foundation&#x27;,\n",
       "                                                                    &#x27;BsmtQual&#x27;,\n",
       "                                                                    &#x27;BsmtCond&#x27;,\n",
       "                                                                    &#x27;BsmtExposure&#x27;,\n",
       "                                                                    &#x27;BsmtFinType1&#x27;,\n",
       "                                                                    &#x27;BsmtFinType2&#x27;,\n",
       "                                                                    &#x27;Heating&#x27;,\n",
       "                                                                    &#x27;HeatingQC&#x27;,\n",
       "                                                                    &#x27;CentralAir&#x27;, ...])])),\n",
       "                                 (&#x27;scaler&#x27;, StandardScaler())])),\n",
       "                (&#x27;mod&#x27;,\n",
       "                 GradientBoostingRegressor(max_depth=5, min_samples_split=10,\n",
       "                                           n_estimators=300,\n",
       "                                           random_state=42))])</pre><b>In a Jupyter environment, please rerun this cell to show the HTML representation or trust the notebook. <br />On GitHub, the HTML representation is unable to render, please try loading this page with nbviewer.org.</b></div><div class=\"sk-container\" hidden><div class=\"sk-item sk-dashed-wrapped\"><div class=\"sk-label-container\"><div class=\"sk-label sk-toggleable\"><input class=\"sk-toggleable__control sk-hidden--visually\" id=\"sk-estimator-id-42\" type=\"checkbox\" ><label for=\"sk-estimator-id-42\" class=\"sk-toggleable__label sk-toggleable__label-arrow\">Pipeline</label><div class=\"sk-toggleable__content\"><pre>Pipeline(steps=[(&#x27;preprocessing&#x27;,\n",
       "                 Pipeline(steps=[(&#x27;impute_encode&#x27;,\n",
       "                                  ColumnTransformer(sparse_threshold=0,\n",
       "                                                    transformers=[(&#x27;num&#x27;,\n",
       "                                                                   Pipeline(steps=[(&#x27;imputer&#x27;,\n",
       "                                                                                    SimpleImputer())]),\n",
       "                                                                   [&#x27;LotFrontage&#x27;,\n",
       "                                                                    &#x27;LotArea&#x27;,\n",
       "                                                                    &#x27;YearBuilt&#x27;,\n",
       "                                                                    &#x27;YearRemodAdd&#x27;,\n",
       "                                                                    &#x27;MasVnrArea&#x27;,\n",
       "                                                                    &#x27;BsmtFinSF1&#x27;,\n",
       "                                                                    &#x27;BsmtFinSF2&#x27;,\n",
       "                                                                    &#x27;BsmtUnfSF&#x27;,\n",
       "                                                                    &#x27;TotalBsmtSF&#x27;,\n",
       "                                                                    &#x27;1stFlrSF&#x27;,\n",
       "                                                                    &#x27;2ndFlrSF&#x27;,\n",
       "                                                                    &#x27;LowQualFinSF&#x27;,\n",
       "                                                                    &#x27;GrLivArea&#x27;,\n",
       "                                                                    &#x27;BsmtFullBath&#x27;...\n",
       "                                                                    &#x27;BldgType&#x27;,\n",
       "                                                                    &#x27;HouseStyle&#x27;,\n",
       "                                                                    &#x27;RoofStyle&#x27;,\n",
       "                                                                    &#x27;RoofMatl&#x27;,\n",
       "                                                                    &#x27;Exterior1st&#x27;,\n",
       "                                                                    &#x27;Exterior2nd&#x27;,\n",
       "                                                                    &#x27;ExterQual&#x27;,\n",
       "                                                                    &#x27;ExterCond&#x27;,\n",
       "                                                                    &#x27;Foundation&#x27;,\n",
       "                                                                    &#x27;BsmtQual&#x27;,\n",
       "                                                                    &#x27;BsmtCond&#x27;,\n",
       "                                                                    &#x27;BsmtExposure&#x27;,\n",
       "                                                                    &#x27;BsmtFinType1&#x27;,\n",
       "                                                                    &#x27;BsmtFinType2&#x27;,\n",
       "                                                                    &#x27;Heating&#x27;,\n",
       "                                                                    &#x27;HeatingQC&#x27;,\n",
       "                                                                    &#x27;CentralAir&#x27;, ...])])),\n",
       "                                 (&#x27;scaler&#x27;, StandardScaler())])),\n",
       "                (&#x27;mod&#x27;,\n",
       "                 GradientBoostingRegressor(max_depth=5, min_samples_split=10,\n",
       "                                           n_estimators=300,\n",
       "                                           random_state=42))])</pre></div></div></div><div class=\"sk-serial\"><div class=\"sk-item\"><div class=\"sk-label-container\"><div class=\"sk-label sk-toggleable\"><input class=\"sk-toggleable__control sk-hidden--visually\" id=\"sk-estimator-id-43\" type=\"checkbox\" ><label for=\"sk-estimator-id-43\" class=\"sk-toggleable__label sk-toggleable__label-arrow\">preprocessing: Pipeline</label><div class=\"sk-toggleable__content\"><pre>Pipeline(steps=[(&#x27;impute_encode&#x27;,\n",
       "                 ColumnTransformer(sparse_threshold=0,\n",
       "                                   transformers=[(&#x27;num&#x27;,\n",
       "                                                  Pipeline(steps=[(&#x27;imputer&#x27;,\n",
       "                                                                   SimpleImputer())]),\n",
       "                                                  [&#x27;LotFrontage&#x27;, &#x27;LotArea&#x27;,\n",
       "                                                   &#x27;YearBuilt&#x27;, &#x27;YearRemodAdd&#x27;,\n",
       "                                                   &#x27;MasVnrArea&#x27;, &#x27;BsmtFinSF1&#x27;,\n",
       "                                                   &#x27;BsmtFinSF2&#x27;, &#x27;BsmtUnfSF&#x27;,\n",
       "                                                   &#x27;TotalBsmtSF&#x27;, &#x27;1stFlrSF&#x27;,\n",
       "                                                   &#x27;2ndFlrSF&#x27;, &#x27;LowQualFinSF&#x27;,\n",
       "                                                   &#x27;GrLivArea&#x27;, &#x27;BsmtFullBath&#x27;,\n",
       "                                                   &#x27;BsmtHalfBath&#x27;,\n",
       "                                                   &#x27;GarageYrBlt&#x27;, &#x27;Fu...\n",
       "                                                   &#x27;Street&#x27;, &#x27;LotShape&#x27;,\n",
       "                                                   &#x27;LandContour&#x27;, &#x27;Utilities&#x27;,\n",
       "                                                   &#x27;LotConfig&#x27;, &#x27;LandSlope&#x27;,\n",
       "                                                   &#x27;Neighborhood&#x27;, &#x27;Condition1&#x27;,\n",
       "                                                   &#x27;Condition2&#x27;, &#x27;BldgType&#x27;,\n",
       "                                                   &#x27;HouseStyle&#x27;, &#x27;RoofStyle&#x27;,\n",
       "                                                   &#x27;RoofMatl&#x27;, &#x27;Exterior1st&#x27;,\n",
       "                                                   &#x27;Exterior2nd&#x27;, &#x27;ExterQual&#x27;,\n",
       "                                                   &#x27;ExterCond&#x27;, &#x27;Foundation&#x27;,\n",
       "                                                   &#x27;BsmtQual&#x27;, &#x27;BsmtCond&#x27;,\n",
       "                                                   &#x27;BsmtExposure&#x27;,\n",
       "                                                   &#x27;BsmtFinType1&#x27;,\n",
       "                                                   &#x27;BsmtFinType2&#x27;, &#x27;Heating&#x27;,\n",
       "                                                   &#x27;HeatingQC&#x27;, &#x27;CentralAir&#x27;, ...])])),\n",
       "                (&#x27;scaler&#x27;, StandardScaler())])</pre></div></div></div><div class=\"sk-serial\"><div class=\"sk-item sk-dashed-wrapped\"><div class=\"sk-label-container\"><div class=\"sk-label sk-toggleable\"><input class=\"sk-toggleable__control sk-hidden--visually\" id=\"sk-estimator-id-44\" type=\"checkbox\" ><label for=\"sk-estimator-id-44\" class=\"sk-toggleable__label sk-toggleable__label-arrow\">impute_encode: ColumnTransformer</label><div class=\"sk-toggleable__content\"><pre>ColumnTransformer(sparse_threshold=0,\n",
       "                  transformers=[(&#x27;num&#x27;,\n",
       "                                 Pipeline(steps=[(&#x27;imputer&#x27;, SimpleImputer())]),\n",
       "                                 [&#x27;LotFrontage&#x27;, &#x27;LotArea&#x27;, &#x27;YearBuilt&#x27;,\n",
       "                                  &#x27;YearRemodAdd&#x27;, &#x27;MasVnrArea&#x27;, &#x27;BsmtFinSF1&#x27;,\n",
       "                                  &#x27;BsmtFinSF2&#x27;, &#x27;BsmtUnfSF&#x27;, &#x27;TotalBsmtSF&#x27;,\n",
       "                                  &#x27;1stFlrSF&#x27;, &#x27;2ndFlrSF&#x27;, &#x27;LowQualFinSF&#x27;,\n",
       "                                  &#x27;GrLivArea&#x27;, &#x27;BsmtFullBath&#x27;, &#x27;BsmtHalfBath&#x27;,\n",
       "                                  &#x27;GarageYrBlt&#x27;, &#x27;FullBath&#x27;, &#x27;HalfBath&#x27;,\n",
       "                                  &#x27;BedroomAbvGr&#x27;...\n",
       "                                 [&#x27;MSSubClass&#x27;, &#x27;MSZoning&#x27;, &#x27;OverallQual&#x27;,\n",
       "                                  &#x27;OverallCond&#x27;, &#x27;Street&#x27;, &#x27;LotShape&#x27;,\n",
       "                                  &#x27;LandContour&#x27;, &#x27;Utilities&#x27;, &#x27;LotConfig&#x27;,\n",
       "                                  &#x27;LandSlope&#x27;, &#x27;Neighborhood&#x27;, &#x27;Condition1&#x27;,\n",
       "                                  &#x27;Condition2&#x27;, &#x27;BldgType&#x27;, &#x27;HouseStyle&#x27;,\n",
       "                                  &#x27;RoofStyle&#x27;, &#x27;RoofMatl&#x27;, &#x27;Exterior1st&#x27;,\n",
       "                                  &#x27;Exterior2nd&#x27;, &#x27;ExterQual&#x27;, &#x27;ExterCond&#x27;,\n",
       "                                  &#x27;Foundation&#x27;, &#x27;BsmtQual&#x27;, &#x27;BsmtCond&#x27;,\n",
       "                                  &#x27;BsmtExposure&#x27;, &#x27;BsmtFinType1&#x27;,\n",
       "                                  &#x27;BsmtFinType2&#x27;, &#x27;Heating&#x27;, &#x27;HeatingQC&#x27;,\n",
       "                                  &#x27;CentralAir&#x27;, ...])])</pre></div></div></div><div class=\"sk-parallel\"><div class=\"sk-parallel-item\"><div class=\"sk-item\"><div class=\"sk-label-container\"><div class=\"sk-label sk-toggleable\"><input class=\"sk-toggleable__control sk-hidden--visually\" id=\"sk-estimator-id-45\" type=\"checkbox\" ><label for=\"sk-estimator-id-45\" class=\"sk-toggleable__label sk-toggleable__label-arrow\">num</label><div class=\"sk-toggleable__content\"><pre>[&#x27;LotFrontage&#x27;, &#x27;LotArea&#x27;, &#x27;YearBuilt&#x27;, &#x27;YearRemodAdd&#x27;, &#x27;MasVnrArea&#x27;, &#x27;BsmtFinSF1&#x27;, &#x27;BsmtFinSF2&#x27;, &#x27;BsmtUnfSF&#x27;, &#x27;TotalBsmtSF&#x27;, &#x27;1stFlrSF&#x27;, &#x27;2ndFlrSF&#x27;, &#x27;LowQualFinSF&#x27;, &#x27;GrLivArea&#x27;, &#x27;BsmtFullBath&#x27;, &#x27;BsmtHalfBath&#x27;, &#x27;GarageYrBlt&#x27;, &#x27;FullBath&#x27;, &#x27;HalfBath&#x27;, &#x27;BedroomAbvGr&#x27;, &#x27;KitchenAbvGr&#x27;, &#x27;TotRmsAbvGrd&#x27;, &#x27;Fireplaces&#x27;, &#x27;GarageCars&#x27;, &#x27;GarageArea&#x27;, &#x27;WoodDeckSF&#x27;, &#x27;OpenPorchSF&#x27;, &#x27;EnclosedPorch&#x27;, &#x27;3SsnPorch&#x27;, &#x27;ScreenPorch&#x27;, &#x27;PoolArea&#x27;, &#x27;MiscVal&#x27;]</pre></div></div></div><div class=\"sk-serial\"><div class=\"sk-item\"><div class=\"sk-serial\"><div class=\"sk-item\"><div class=\"sk-estimator sk-toggleable\"><input class=\"sk-toggleable__control sk-hidden--visually\" id=\"sk-estimator-id-46\" type=\"checkbox\" ><label for=\"sk-estimator-id-46\" class=\"sk-toggleable__label sk-toggleable__label-arrow\">SimpleImputer</label><div class=\"sk-toggleable__content\"><pre>SimpleImputer()</pre></div></div></div></div></div></div></div></div><div class=\"sk-parallel-item\"><div class=\"sk-item\"><div class=\"sk-label-container\"><div class=\"sk-label sk-toggleable\"><input class=\"sk-toggleable__control sk-hidden--visually\" id=\"sk-estimator-id-47\" type=\"checkbox\" ><label for=\"sk-estimator-id-47\" class=\"sk-toggleable__label sk-toggleable__label-arrow\">cat</label><div class=\"sk-toggleable__content\"><pre>[&#x27;MSSubClass&#x27;, &#x27;MSZoning&#x27;, &#x27;OverallQual&#x27;, &#x27;OverallCond&#x27;, &#x27;Street&#x27;, &#x27;LotShape&#x27;, &#x27;LandContour&#x27;, &#x27;Utilities&#x27;, &#x27;LotConfig&#x27;, &#x27;LandSlope&#x27;, &#x27;Neighborhood&#x27;, &#x27;Condition1&#x27;, &#x27;Condition2&#x27;, &#x27;BldgType&#x27;, &#x27;HouseStyle&#x27;, &#x27;RoofStyle&#x27;, &#x27;RoofMatl&#x27;, &#x27;Exterior1st&#x27;, &#x27;Exterior2nd&#x27;, &#x27;ExterQual&#x27;, &#x27;ExterCond&#x27;, &#x27;Foundation&#x27;, &#x27;BsmtQual&#x27;, &#x27;BsmtCond&#x27;, &#x27;BsmtExposure&#x27;, &#x27;BsmtFinType1&#x27;, &#x27;BsmtFinType2&#x27;, &#x27;Heating&#x27;, &#x27;HeatingQC&#x27;, &#x27;CentralAir&#x27;, &#x27;Electrical&#x27;, &#x27;KitchenQual&#x27;, &#x27;Functional&#x27;, &#x27;GarageType&#x27;, &#x27;GarageFinish&#x27;, &#x27;GarageQual&#x27;, &#x27;GarageCond&#x27;, &#x27;PavedDrive&#x27;, &#x27;SaleType&#x27;, &#x27;SaleCondition&#x27;, &#x27;MoSold&#x27;, &#x27;YrSold&#x27;]</pre></div></div></div><div class=\"sk-serial\"><div class=\"sk-item\"><div class=\"sk-serial\"><div class=\"sk-item\"><div class=\"sk-estimator sk-toggleable\"><input class=\"sk-toggleable__control sk-hidden--visually\" id=\"sk-estimator-id-48\" type=\"checkbox\" ><label for=\"sk-estimator-id-48\" class=\"sk-toggleable__label sk-toggleable__label-arrow\">SimpleImputer</label><div class=\"sk-toggleable__content\"><pre>SimpleImputer(strategy=&#x27;most_frequent&#x27;)</pre></div></div></div><div class=\"sk-item\"><div class=\"sk-estimator sk-toggleable\"><input class=\"sk-toggleable__control sk-hidden--visually\" id=\"sk-estimator-id-49\" type=\"checkbox\" ><label for=\"sk-estimator-id-49\" class=\"sk-toggleable__label sk-toggleable__label-arrow\">OneHotEncoder</label><div class=\"sk-toggleable__content\"><pre>OneHotEncoder(handle_unknown=&#x27;ignore&#x27;)</pre></div></div></div></div></div></div></div></div></div></div><div class=\"sk-item\"><div class=\"sk-estimator sk-toggleable\"><input class=\"sk-toggleable__control sk-hidden--visually\" id=\"sk-estimator-id-50\" type=\"checkbox\" ><label for=\"sk-estimator-id-50\" class=\"sk-toggleable__label sk-toggleable__label-arrow\">StandardScaler</label><div class=\"sk-toggleable__content\"><pre>StandardScaler()</pre></div></div></div></div></div><div class=\"sk-item\"><div class=\"sk-estimator sk-toggleable\"><input class=\"sk-toggleable__control sk-hidden--visually\" id=\"sk-estimator-id-51\" type=\"checkbox\" ><label for=\"sk-estimator-id-51\" class=\"sk-toggleable__label sk-toggleable__label-arrow\">GradientBoostingRegressor</label><div class=\"sk-toggleable__content\"><pre>GradientBoostingRegressor(max_depth=5, min_samples_split=10, n_estimators=300,\n",
       "                          random_state=42)</pre></div></div></div></div></div></div></div>"
      ],
      "text/plain": [
       "Pipeline(steps=[('preprocessing',\n",
       "                 Pipeline(steps=[('impute_encode',\n",
       "                                  ColumnTransformer(sparse_threshold=0,\n",
       "                                                    transformers=[('num',\n",
       "                                                                   Pipeline(steps=[('imputer',\n",
       "                                                                                    SimpleImputer())]),\n",
       "                                                                   ['LotFrontage',\n",
       "                                                                    'LotArea',\n",
       "                                                                    'YearBuilt',\n",
       "                                                                    'YearRemodAdd',\n",
       "                                                                    'MasVnrArea',\n",
       "                                                                    'BsmtFinSF1',\n",
       "                                                                    'BsmtFinSF2',\n",
       "                                                                    'BsmtUnfSF',\n",
       "                                                                    'TotalBsmtSF',\n",
       "                                                                    '1stFlrSF',\n",
       "                                                                    '2ndFlrSF',\n",
       "                                                                    'LowQualFinSF',\n",
       "                                                                    'GrLivArea',\n",
       "                                                                    'BsmtFullBath'...\n",
       "                                                                    'BldgType',\n",
       "                                                                    'HouseStyle',\n",
       "                                                                    'RoofStyle',\n",
       "                                                                    'RoofMatl',\n",
       "                                                                    'Exterior1st',\n",
       "                                                                    'Exterior2nd',\n",
       "                                                                    'ExterQual',\n",
       "                                                                    'ExterCond',\n",
       "                                                                    'Foundation',\n",
       "                                                                    'BsmtQual',\n",
       "                                                                    'BsmtCond',\n",
       "                                                                    'BsmtExposure',\n",
       "                                                                    'BsmtFinType1',\n",
       "                                                                    'BsmtFinType2',\n",
       "                                                                    'Heating',\n",
       "                                                                    'HeatingQC',\n",
       "                                                                    'CentralAir', ...])])),\n",
       "                                 ('scaler', StandardScaler())])),\n",
       "                ('mod',\n",
       "                 GradientBoostingRegressor(max_depth=5, min_samples_split=10,\n",
       "                                           n_estimators=300,\n",
       "                                           random_state=42))])"
      ]
     },
     "execution_count": 154,
     "metadata": {},
     "output_type": "execute_result"
    }
   ],
   "source": [
    "gradient_boosting_pipeline=Pipeline(steps=[('preprocessing', data_preprocessing),\n",
    "                                        ('mod',GradientBoostingRegressor(n_estimators=300, max_depth=5,min_samples_split=10, random_state=42))\n",
    "                                        ])\n",
    "gradient_boosting_pipeline.fit( X_train, y_train)"
   ]
  },
  {
   "cell_type": "code",
   "execution_count": 155,
   "id": "f65e1391",
   "metadata": {},
   "outputs": [
    {
     "name": "stdout",
     "output_type": "stream",
     "text": [
      "Average Train r2 Score : 1.00 +/- 0.00\n",
      "Average Test r2 Score: 0.85 +/- 0.04\n",
      "r2 score on Test data: 0.90\n"
     ]
    }
   ],
   "source": [
    "train_regressor(gradient_boosting_pipeline , X_train, y_train, cv, 'Gradient Boosting Regressor')\n",
    "eval(gradient_boosting_pipeline, X_test, y_test)\n"
   ]
  },
  {
   "cell_type": "markdown",
   "id": "0413e51c",
   "metadata": {
    "papermill": {
     "duration": 0.025326,
     "end_time": "2023-12-06T14:13:38.374476",
     "exception": false,
     "start_time": "2023-12-06T14:13:38.349150",
     "status": "completed"
    },
    "tags": []
   },
   "source": [
    "### Final Prediction with best Model"
   ]
  },
  {
   "cell_type": "code",
   "execution_count": 151,
   "id": "27a02eb8",
   "metadata": {
    "execution": {
     "iopub.execute_input": "2023-12-06T14:13:38.429866Z",
     "iopub.status.busy": "2023-12-06T14:13:38.429491Z",
     "iopub.status.idle": "2023-12-06T14:13:39.366071Z",
     "shell.execute_reply": "2023-12-06T14:13:39.364279Z"
    },
    "papermill": {
     "duration": 0.968446,
     "end_time": "2023-12-06T14:13:39.368887",
     "exception": false,
     "start_time": "2023-12-06T14:13:38.400441",
     "status": "completed"
    },
    "tags": []
   },
   "outputs": [],
   "source": [
    "final_prediction=gradient_boosting_pipeline.predict(test_data)"
   ]
  },
  {
   "cell_type": "code",
   "execution_count": 152,
   "id": "b1e5edb2",
   "metadata": {
    "execution": {
     "iopub.execute_input": "2023-12-06T14:13:39.423385Z",
     "iopub.status.busy": "2023-12-06T14:13:39.422978Z",
     "iopub.status.idle": "2023-12-06T14:13:39.588870Z",
     "shell.execute_reply": "2023-12-06T14:13:39.587632Z"
    },
    "papermill": {
     "duration": 0.196512,
     "end_time": "2023-12-06T14:13:39.591434",
     "exception": false,
     "start_time": "2023-12-06T14:13:39.394922",
     "status": "completed"
    },
    "tags": []
   },
   "outputs": [],
   "source": [
    "submission=pd.DataFrame(columns=['Id','SalePrice'])\n",
    "submission['Id']=test_data['Id']\n",
    "submission['SalePrice']=final_prediction\n",
    "submission.to_csv('submission.csv',index=False)"
   ]
  },
  {
   "cell_type": "code",
   "execution_count": 153,
   "id": "c3274750",
   "metadata": {
    "execution": {
     "iopub.execute_input": "2023-12-06T14:13:39.647346Z",
     "iopub.status.busy": "2023-12-06T14:13:39.646435Z",
     "iopub.status.idle": "2023-12-06T14:13:39.652871Z",
     "shell.execute_reply": "2023-12-06T14:13:39.652031Z"
    },
    "papermill": {
     "duration": 0.036166,
     "end_time": "2023-12-06T14:13:39.655084",
     "exception": false,
     "start_time": "2023-12-06T14:13:39.618918",
     "status": "completed"
    },
    "tags": []
   },
   "outputs": [
    {
     "data": {
      "text/plain": [
       "(1459, 2)"
      ]
     },
     "execution_count": 153,
     "metadata": {},
     "output_type": "execute_result"
    }
   ],
   "source": [
    "submission.shape"
   ]
  }
 ],
 "metadata": {
  "kaggle": {
   "accelerator": "none",
   "dataSources": [
    {
     "databundleVersionId": 6604167,
     "sourceId": 61246,
     "sourceType": "competition"
    }
   ],
   "dockerImageVersionId": 30558,
   "isGpuEnabled": false,
   "isInternetEnabled": true,
   "language": "python",
   "sourceType": "notebook"
  },
  "kernelspec": {
   "display_name": "Python 3",
   "language": "python",
   "name": "python3"
  },
  "language_info": {
   "codemirror_mode": {
    "name": "ipython",
    "version": 3
   },
   "file_extension": ".py",
   "mimetype": "text/x-python",
   "name": "python",
   "nbconvert_exporter": "python",
   "pygments_lexer": "ipython3",
   "version": "3.10.11"
  },
  "papermill": {
   "default_parameters": {},
   "duration": 104.63207,
   "end_time": "2023-12-06T14:13:40.502746",
   "environment_variables": {},
   "exception": null,
   "input_path": "__notebook__.ipynb",
   "output_path": "__notebook__.ipynb",
   "parameters": {},
   "start_time": "2023-12-06T14:11:55.870676",
   "version": "2.4.0"
  }
 },
 "nbformat": 4,
 "nbformat_minor": 5
}
